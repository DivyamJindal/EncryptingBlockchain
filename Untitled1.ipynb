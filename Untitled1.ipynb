{
  "nbformat": 4,
  "nbformat_minor": 0,
  "metadata": {
    "colab": {
      "provenance": [],
      "authorship_tag": "ABX9TyOCbaadSgFVbPIzftu3eYXu",
      "include_colab_link": true
    },
    "kernelspec": {
      "name": "python3",
      "display_name": "Python 3"
    },
    "language_info": {
      "name": "python"
    }
  },
  "cells": [
    {
      "cell_type": "markdown",
      "metadata": {
        "id": "view-in-github",
        "colab_type": "text"
      },
      "source": [
        "<a href=\"https://colab.research.google.com/github/DivyamJindal/EncryptingBlockchain/blob/main/Untitled1.ipynb\" target=\"_parent\"><img src=\"https://colab.research.google.com/assets/colab-badge.svg\" alt=\"Open In Colab\"/></a>"
      ]
    },
    {
      "cell_type": "code",
      "execution_count": null,
      "metadata": {
        "colab": {
          "base_uri": "https://localhost:8080/"
        },
        "id": "dba36VRIoJR9",
        "outputId": "079b65ef-ec12-43fa-da6f-c3bdbf2c44b9"
      },
      "outputs": [
        {
          "output_type": "stream",
          "name": "stdout",
          "text": [
            "Collecting pycryptodome\n",
            "  Downloading pycryptodome-3.21.0-cp36-abi3-manylinux_2_17_x86_64.manylinux2014_x86_64.whl.metadata (3.4 kB)\n",
            "Downloading pycryptodome-3.21.0-cp36-abi3-manylinux_2_17_x86_64.manylinux2014_x86_64.whl (2.3 MB)\n",
            "\u001b[?25l   \u001b[90m━━━━━━━━━━━━━━━━━━━━━━━━━━━━━━━━━━━━━━━━\u001b[0m \u001b[32m0.0/2.3 MB\u001b[0m \u001b[31m?\u001b[0m eta \u001b[36m-:--:--\u001b[0m\r\u001b[2K   \u001b[91m━━━━━━━━━\u001b[0m\u001b[90m╺\u001b[0m\u001b[90m━━━━━━━━━━━━━━━━━━━━━━━━━━━━━━\u001b[0m \u001b[32m0.5/2.3 MB\u001b[0m \u001b[31m16.4 MB/s\u001b[0m eta \u001b[36m0:00:01\u001b[0m\r\u001b[2K   \u001b[91m━━━━━━━━━━━━━━━━━━━━━━━━━━━━━━━━━━━━━━━\u001b[0m\u001b[91m╸\u001b[0m \u001b[32m2.3/2.3 MB\u001b[0m \u001b[31m42.2 MB/s\u001b[0m eta \u001b[36m0:00:01\u001b[0m\r\u001b[2K   \u001b[90m━━━━━━━━━━━━━━━━━━━━━━━━━━━━━━━━━━━━━━━━\u001b[0m \u001b[32m2.3/2.3 MB\u001b[0m \u001b[31m29.9 MB/s\u001b[0m eta \u001b[36m0:00:00\u001b[0m\n",
            "\u001b[?25hInstalling collected packages: pycryptodome\n",
            "Successfully installed pycryptodome-3.21.0\n"
          ]
        }
      ],
      "source": [
        "!pip install pycryptodome\n",
        "\n"
      ]
    },
    {
      "cell_type": "code",
      "source": [
        "from Crypto.Cipher import AES\n",
        "from Crypto.Random import get_random_bytes\n",
        "\n",
        "def encrypt_data(soldier_id, wound_location, medkit_items, key):\n",
        "    # Prepare data string by combining inputs\n",
        "    data = f\"SoldierID: {soldier_id}, Wound Location: {wound_location}, Medkit: {', '.join(medkit_items)}\"\n",
        "\n",
        "    # Initialize AES cipher with a randomly generated nonce\n",
        "    cipher = AES.new(key, AES.MODE_EAX)\n",
        "    nonce = cipher.nonce  # Unique value needed for decryption\n",
        "    ciphertext, tag = cipher.encrypt_and_digest(data.encode())\n",
        "\n",
        "    return nonce, ciphertext, tag\n",
        "\n",
        "# Sample inputs\n",
        "key = get_random_bytes(16)  # Generate a random 16-byte AES key\n",
        "soldier_id = \"12345\"\n",
        "wound_location = \"Upper Arm\"\n",
        "medkit_items = [\"Bandage\", \"Scissors\", \"Antiseptic\"]\n",
        "\n",
        "# Encrypting data\n",
        "nonce, ciphertext, tag = encrypt_data(soldier_id, wound_location, medkit_items, key)\n",
        "\n",
        "# Displaying encrypted results\n",
        "print(\"Encrypted data:\", ciphertext.hex())\n",
        "print(\"Nonce:\", nonce.hex())\n",
        "print(\"Tag:\", tag.hex())\n"
      ],
      "metadata": {
        "id": "mXnC_VesoMXy",
        "colab": {
          "base_uri": "https://localhost:8080/"
        },
        "outputId": "dfbf90a8-6750-48d7-ff82-4cb6470a24c3"
      },
      "execution_count": null,
      "outputs": [
        {
          "output_type": "stream",
          "name": "stdout",
          "text": [
            "Encrypted data: 03f422761cff690158fe890965cb5a81d68cb73ad9c46435d68789fda497fe75b5541dbe7a5ad817579b3d7204f7b1488d5bd1b6cfb82eb31612aae0d57365173e29e3bcf0250013789fb1bde3cae3262b11\n",
            "Nonce: 8e37a0038080ab6a347027690e2b4691\n",
            "Tag: 90e39d2ccf1b67348a6b083585c41215\n"
          ]
        }
      ]
    },
    {
      "cell_type": "code",
      "source": [
        "def decrypt_data(nonce, ciphertext, key, tag):\n",
        "    # Initialize AES cipher in EAX mode with the given nonce\n",
        "    cipher = AES.new(key, AES.MODE_EAX, nonce=nonce)\n",
        "    decrypted_data = cipher.decrypt_and_verify(ciphertext, tag)\n",
        "\n",
        "    return decrypted_data.decode()\n",
        "\n",
        "# Decrypting data\n",
        "try:\n",
        "    decrypted_data = decrypt_data(nonce, ciphertext, key, tag)\n",
        "    print(\"Decrypted data:\", decrypted_data)\n",
        "except ValueError:\n",
        "    print(\"Decryption failed or data has been tampered with.\")\n"
      ],
      "metadata": {
        "id": "oA43YkfBoQPU",
        "colab": {
          "base_uri": "https://localhost:8080/"
        },
        "outputId": "645bf854-84f7-4b59-a745-17a3781fc3f8"
      },
      "execution_count": null,
      "outputs": [
        {
          "output_type": "stream",
          "name": "stdout",
          "text": [
            "Decrypted data: SoldierID: 12345, Wound Location: Upper Arm, Medkit: Bandage, Scissors, Antiseptic\n"
          ]
        }
      ]
    },
    {
      "cell_type": "code",
      "source": [],
      "metadata": {
        "id": "gIWeZ2N2WznS"
      },
      "execution_count": null,
      "outputs": []
    }
  ]
}